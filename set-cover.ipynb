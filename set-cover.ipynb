{
 "cells": [
  {
   "cell_type": "markdown",
   "metadata": {},
   "source": [
    "Copyright **`(c)`** 2024 Giovanni Squillero `<giovanni.squillero@polito.it>`  \n",
    "[`https://github.com/squillero/computational-intelligence`](https://github.com/squillero/computational-intelligence)  \n",
    "Free for personal or classroom use; see [`LICENSE.md`](https://github.com/squillero/computational-intelligence/blob/master/LICENSE.md) for details.  "
   ]
  },
  {
   "cell_type": "markdown",
   "metadata": {},
   "source": [
    "# Set Cover problem\n",
    "\n",
    "See: https://en.wikipedia.org/wiki/Set_cover_problem"
   ]
  },
  {
   "cell_type": "code",
   "execution_count": 297,
   "metadata": {
    "ExecuteTime": {
     "end_time": "2024-10-07T16:06:19.567326Z",
     "start_time": "2024-10-07T16:06:19.165422400Z"
    }
   },
   "outputs": [],
   "source": [
    "from random import random, seed\n",
    "from itertools import product\n",
    "import numpy as np\n",
    "\n",
    "from icecream import ic"
   ]
  },
  {
   "cell_type": "markdown",
   "metadata": {},
   "source": [
    "## Reproducible Initialization\n",
    "\n",
    "If you want to get reproducible results, use `rng` (and restart the kernel); for non-reproducible ones, use `np.random`."
   ]
  },
  {
   "cell_type": "code",
   "execution_count": 298,
   "metadata": {
    "ExecuteTime": {
     "end_time": "2024-10-07T16:08:33.618584100Z",
     "start_time": "2024-10-07T16:08:33.607968900Z"
    }
   },
   "outputs": [],
   "source": [
    "UNIVERSE_SIZE = 10000\n",
    "NUM_SETS = 1000\n",
    "DENSITY = 0.2\n",
    "\n",
    "rng = np.random.Generator(np.random.PCG64([UNIVERSE_SIZE, NUM_SETS, int(10_000 * DENSITY)]))"
   ]
  },
  {
   "cell_type": "code",
   "execution_count": 299,
   "metadata": {
    "ExecuteTime": {
     "end_time": "2024-10-07T16:08:29.620930400Z",
     "start_time": "2024-10-07T16:08:26.529744200Z"
    }
   },
   "outputs": [],
   "source": [
    "# DON'T EDIT THESE LINES!\n",
    "SETS = np.random.random((NUM_SETS, UNIVERSE_SIZE)) < DENSITY\n",
    "for s in range(UNIVERSE_SIZE):\n",
    "    if not np.any(SETS[:, s]):\n",
    "        SETS[np.random.randint(NUM_SETS), s] = True\n",
    "COSTS = np.pow(SETS.sum(axis=1), 1.1)\n"
   ]
  },
  {
   "cell_type": "markdown",
   "metadata": {},
   "source": [
    "## Helper Functions"
   ]
  },
  {
   "cell_type": "code",
   "execution_count": 300,
   "metadata": {},
   "outputs": [],
   "source": [
    "def valid(solution):\n",
    "    \"\"\"Checks wether solution is valid (ie. covers all universe)\"\"\"\n",
    "    return np.all(np.logical_or.reduce(SETS[solution]))\n",
    "\n",
    "\n",
    "def cost(solution):\n",
    "    \"\"\"Returns the cost of a solution (to be minimized)\"\"\"\n",
    "    return COSTS[solution].sum()"
   ]
  },
  {
   "cell_type": "markdown",
   "metadata": {},
   "source": [
    "## Have Fun!"
   ]
  },
  {
   "cell_type": "code",
   "execution_count": 301,
   "metadata": {},
   "outputs": [
    {
     "data": {
      "text/plain": [
       "(np.True_, np.float64(4273189.009129035))"
      ]
     },
     "execution_count": 301,
     "metadata": {},
     "output_type": "execute_result"
    }
   ],
   "source": [
    "# A dumb solution of \"all\" sets\n",
    "solution = np.full(NUM_SETS, True)\n",
    "valid(solution), cost(solution)"
   ]
  },
  {
   "cell_type": "code",
   "execution_count": 302,
   "metadata": {},
   "outputs": [
    {
     "data": {
      "text/plain": [
       "(np.True_, np.float64(2919009.606331308))"
      ]
     },
     "execution_count": 302,
     "metadata": {},
     "output_type": "execute_result"
    }
   ],
   "source": [
    "# A random solution with random 50% of the sets\n",
    "solution = np.random.random(NUM_SETS) < .7\n",
    "valid(solution), cost(solution)"
   ]
  },
  {
   "cell_type": "code",
   "execution_count": 303,
   "metadata": {},
   "outputs": [],
   "source": [
    "def tweak(old_solution): #simple random tweak\n",
    "    new_solution=old_solution.copy()\n",
    "    i=rng.integers(0, NUM_SETS)\n",
    "    new_solution[i]= not new_solution[i]\n",
    "    return new_solution\n",
    "\n",
    "def fitness(solution):\n",
    "    return (valid(solution),-cost(solution))\n"
   ]
  },
  {
   "cell_type": "code",
   "execution_count": 305,
   "metadata": {},
   "outputs": [],
   "source": [
    "def best_neighbor(solution,num_neighbors): # helper to find the best neighbor out of num, using simple tweak\n",
    "    best=tweak(solution)\n",
    "    for i in range(num_neighbors-1):\n",
    "        neighbor=tweak(solution)\n",
    "        if fitness(neighbor) > fitness(best):\n",
    "            best=neighbor\n",
    "    return best"
   ]
  },
  {
   "cell_type": "code",
   "execution_count": 310,
   "metadata": {},
   "outputs": [
    {
     "name": "stderr",
     "output_type": "stream",
     "text": [
      "ic| fitness(tmp_solution): (np.True_, np.float64(-132305.72410748983))\n",
      "ic| fitness(final_solution): (np.True_, np.float64(-132305.72410748983))\n",
      "ic| fitness(tmp_solution): (np.True_, np.float64(-128442.4557832992))\n",
      "ic| fitness(final_solution): (np.True_, np.float64(-128442.4557832992))\n",
      "ic| fitness(tmp_solution): (np.True_, np.float64(-128853.3348036522))\n",
      "ic| fitness(tmp_solution): (np.True_, np.float64(-123335.21406262068))\n",
      "ic| fitness(final_solution): (np.True_, np.float64(-123335.21406262068))\n",
      "ic| fitness(tmp_solution): (np.True_, np.float64(-127800.32851672624))\n",
      "ic| fitness(tmp_solution): (np.True_, np.float64(-124043.17415665704))\n",
      "ic| fitness(tmp_solution): (np.True_, np.float64(-132434.54917919103))\n",
      "ic| fitness(tmp_solution): (np.True_, np.float64(-127813.87955245467))\n",
      "ic| fitness(tmp_solution): (np.True_, np.float64(-132154.94720589346))\n",
      "ic| fitness(tmp_solution): (np.False_, np.float64(-0.0))\n",
      "ic| fitness(tmp_solution): (np.True_, np.float64(-123797.90379663011))\n",
      "ic| fitness(tmp_solution): (np.True_, np.float64(-133242.2832832334))\n",
      "ic| fitness(tmp_solution): (np.True_, np.float64(-128828.2060740422))\n",
      "ic| fitness(tmp_solution): (np.True_, np.float64(-124164.76124583083))\n",
      "ic| fitness(tmp_solution): (np.True_, np.float64(-128244.5883013669))\n",
      "ic| fitness(tmp_solution): (np.True_, np.float64(-123527.11601660165))\n",
      "ic| fitness(tmp_solution): (np.True_, np.float64(-129029.86664989102))\n",
      "ic| fitness(tmp_solution): (np.True_, np.float64(-128669.22138933362))\n",
      "ic| fitness(tmp_solution): (np.True_, np.float64(-128310.33054884365))\n",
      "ic| fitness(tmp_solution): (np.True_, np.float64(-128254.05124572548))\n",
      "ic| fitness(final_solution): (np.True_, np.float64(-123335.21406262068))\n"
     ]
    },
    {
     "data": {
      "text/plain": [
       "(np.True_, np.float64(-123335.21406262068))"
      ]
     },
     "execution_count": 310,
     "metadata": {},
     "output_type": "execute_result"
    }
   ],
   "source": [
    "num_of_restarts = 20\n",
    "steps = 1000\n",
    "num_of_neighbors = 10\n",
    "final_solution = rng.random(NUM_SETS) < 1 #all of the sets solution\n",
    "\n",
    "for i in range(num_of_restarts):\n",
    "    tmp_solution = rng.random(NUM_SETS) < 0.05 # initialize random solution\n",
    "\n",
    "    for j in range(steps): #in each step find the best neighbor and check if it's better than current solution\n",
    "        best_of_neighbor = best_neighbor(tmp_solution,num_of_neighbors)\n",
    "        if (fitness(best_of_neighbor)>fitness(tmp_solution)):\n",
    "            tmp_solution = best_of_neighbor\n",
    "\n",
    "    if(fitness(tmp_solution)>fitness(final_solution)): #check if the tmp solution better than current best\n",
    "        final_solution = tmp_solution\n",
    "        ic(fitness(final_solution)) #print new current solution\n",
    "\n",
    "ic(fitness(final_solution)) # print the final solution\n",
    " "
   ]
  }
 ],
 "metadata": {
  "kernelspec": {
   "display_name": "Python 3 (ipykernel)",
   "language": "python",
   "name": "python3"
  },
  "language_info": {
   "codemirror_mode": {
    "name": "ipython",
    "version": 3
   },
   "file_extension": ".py",
   "mimetype": "text/x-python",
   "name": "python",
   "nbconvert_exporter": "python",
   "pygments_lexer": "ipython3",
   "version": "3.12.0"
  }
 },
 "nbformat": 4,
 "nbformat_minor": 4
}
